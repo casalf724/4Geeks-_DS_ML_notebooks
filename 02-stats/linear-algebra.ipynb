{
  "cells": [
    {
      "cell_type": "markdown",
      "id": "52d41e2c",
      "metadata": {
        "id": "52d41e2c"
      },
      "source": [
        "## Linear Algebra"
      ]
    },
    {
      "cell_type": "markdown",
      "id": "c6736e5d",
      "metadata": {
        "id": "c6736e5d"
      },
      "source": [
        "**Linear algebra** is the branch of linear equations mathematics that uses vector space and matrices.\n",
        "\n",
        "The two primary mathematical entities that are of interest in linear algebra are the **vector** and the **matrix**. They are examples of a more general entity known as a tensor. Tensors possess an order (or rank), which determines the number of dimensions in a matrix required to represent it.\n",
        "\n",
        "**vectors**: A set of numerical elements of a particular size and one-dimensional. For example:\n",
        "\n",
        "$$\\begin{matrix} 3 \\\\ 4 \\\\ 5 \\end{matrix}$$\n",
        "\n",
        "`numpy` is the best library to work with these data structures. Some examples for generating random vectors are:"
      ]
    },
    {
      "cell_type": "code",
      "execution_count": 1,
      "id": "f13403ab",
      "metadata": {
        "id": "f13403ab",
        "outputId": "00a5aaf5-ed30-46e5-801b-9aeed1a7249a",
        "colab": {
          "base_uri": "https://localhost:8080/"
        }
      },
      "outputs": [
        {
          "output_type": "stream",
          "name": "stdout",
          "text": [
            "[1. 1. 1. 1. 1. 1. 1. 1. 1. 1.]\n",
            "[ 3.          4.33333333  5.66666667  7.          8.33333333  9.66666667\n",
            " 11.         12.33333333 13.66666667 15.        ]\n",
            "[0.88278382 0.47992991 0.27563144 0.77420957 0.77224441 0.74579033\n",
            " 0.07285108 0.94014867 0.34321843 0.18378833]\n",
            "[5 2 3 5 7 7 2 6 2 7]\n"
          ]
        }
      ],
      "source": [
        "import numpy as np\n",
        "\n",
        "# Vector of 10 ones\n",
        "a1 = np.ones(10)\n",
        "print(a1)\n",
        "\n",
        "# Vector of 10 numbers that have the same distance from each other, starting with 3 and ending with 15\n",
        "a2 = np.linspace(3, 15, 10)\n",
        "print(a2)\n",
        "\n",
        "# Vector of 10 random numbers between [0, 1)\n",
        "a3 = np.random.rand(10)\n",
        "print(a3)\n",
        "\n",
        "# Vector of 10 random numbers between [1, 10)\n",
        "a4 = np.random.randint(1, 10, size=10)\n",
        "print(a4)"
      ]
    },
    {
      "cell_type": "markdown",
      "id": "bd631630",
      "metadata": {
        "id": "bd631630"
      },
      "source": [
        "**Matrix**: A set of vectors that form a rectangular structure with rows and columns. For example:\n",
        "\n",
        "$$\\begin{matrix} 3 & 4 \\\\ 5 & 6 \\end{matrix}$$\n",
        "\n",
        "With `numpy` you can also work with this library to generate arrays. Some examples of how to generate them are:"
      ]
    },
    {
      "cell_type": "code",
      "execution_count": 2,
      "id": "8948deb3",
      "metadata": {
        "id": "8948deb3",
        "outputId": "499c48b2-0f8d-4ece-e65b-e98d9c8ac64b",
        "colab": {
          "base_uri": "https://localhost:8080/"
        }
      },
      "outputs": [
        {
          "output_type": "stream",
          "name": "stdout",
          "text": [
            "[[1. 0. 0. 0. 0.]\n",
            " [0. 1. 0. 0. 0.]\n",
            " [0. 0. 1. 0. 0.]\n",
            " [0. 0. 0. 1. 0.]\n",
            " [0. 0. 0. 0. 1.]]\n",
            "[[0.23742836 0.20751565]\n",
            " [0.70707202 0.61558879]\n",
            " [0.10704927 0.72459986]]\n",
            "[[18 16 10 14 14]\n",
            " [ 8  8  9 10  7]\n",
            " [16 18  7 13 11]\n",
            " [13  8  5 17 18]\n",
            " [ 5 15 12 12 17]\n",
            " [ 7 18 18 14 17]\n",
            " [15 12 17 17 10]]\n"
          ]
        }
      ],
      "source": [
        "# 5x5 Identity matrix (5 rows, 5 columns)\n",
        "m1 = np.identity(5)\n",
        "print(m1)\n",
        "\n",
        "# 3x2 (3 rows, 2 columns) matrix with random numbers between [0, 1)\n",
        "m2 = np.random.rand(3, 2)\n",
        "print(m2)\n",
        "\n",
        "# 7x5 matrix (7 rows, 5 columns) with random numbers between 5 and 19\n",
        "m3 = np.random.randint(5, 19, size=(7, 5))\n",
        "print(m3)"
      ]
    },
    {
      "cell_type": "markdown",
      "id": "fe0d8d03",
      "metadata": {
        "id": "fe0d8d03"
      },
      "source": [
        "**Tensors: Tensors are a matrix of numbers or functions that transmute with certain rules when the coordinates change. Usually the work with tensors is more advanced and requires more Machine Learning and model oriented libraries like `TensorFlow` or `PyTorch`.\n",
        "\n",
        "Machine Learning*** is the contact point for Computer Science and Statistics.\n",
        "\n",
        "### Vectors\n",
        "\n",
        "Since scalars exist to represent values, why are vectors necessary? One of the main use cases for vectors is to represent physical quantities that have both a magnitude and a direction. Scalars are only capable of representing magnitudes.\n",
        "\n",
        "For example, scalars and vectors encode the difference between the speed of a car and its velocity. The velocity contains not only its speed, but also its direction of travel.\n",
        "\n",
        "In Machine Learning, vectors often represent feature vectors, with their individual components specifying how important a particular feature is. Such features might include the relative importance of words in a text document, the intensity of a set of pixels in a two-dimensional image, or historical price values for a representative sample of financial instruments.\n",
        "\n",
        "**Scalar Operations**\n",
        "\n",
        "Scalar operations involve a vector and a number.\n"
      ]
    },
    {
      "cell_type": "markdown",
      "id": "ef717237",
      "metadata": {
        "id": "ef717237"
      },
      "source": [
        "![linear_algebra_scalar_operations.png](https://github.com/4GeeksAcademy/machine-learning-content/blob/master/assets/linear_algebra_scalar_operations.png?raw=true)"
      ]
    },
    {
      "cell_type": "code",
      "execution_count": 3,
      "id": "2d55183a",
      "metadata": {
        "id": "2d55183a",
        "outputId": "bde70280-2888-426e-99fd-2f3eaa428ff2",
        "colab": {
          "base_uri": "https://localhost:8080/"
        }
      },
      "outputs": [
        {
          "output_type": "stream",
          "name": "stdout",
          "text": [
            "[3 4 5 6]\n",
            "[0 1 2 3]\n",
            "[10 20 30 40]\n",
            "[0.2 0.4 0.6 0.8]\n"
          ]
        }
      ],
      "source": [
        "# Adding a scalar and a vector. In the following example, each element of the vector will have a 2 added to it\n",
        "a1 = np.array([1, 2, 3, 4])\n",
        "print(a1 + 2)\n",
        "\n",
        "# Subtract a scalar and a vector. In the following example, each element of the vector will have a 1 subtracted from it\n",
        "print(a1 - 1)\n",
        "\n",
        "# Multiplying a scalar and a vector. In the following example, each element of the vector will be multiplied by 10\n",
        "print(a1 * 10)\n",
        "\n",
        "# Dividing a scalar and a vector. In the following example, each element of the vector will be divided by 5\n",
        "print(a1 / 5)"
      ]
    },
    {
      "cell_type": "markdown",
      "id": "ae8ef9bb",
      "metadata": {
        "id": "ae8ef9bb"
      },
      "source": [
        "**Vector multiplication**\n",
        "\n",
        "There are two types of vector multiplication: dot product and Hadamard product.\n",
        "\n",
        "The dot product of two vectors is a scalar. The dot product of vectors and matrices (matrix multiplication) is one of the most important operations in deep learning."
      ]
    },
    {
      "cell_type": "markdown",
      "id": "146d59b5",
      "metadata": {
        "id": "146d59b5"
      },
      "source": [
        "![linear_algebra_dot_product.png](https://github.com/4GeeksAcademy/machine-learning-content/blob/master/assets/linear_algebra_dot_product.png?raw=true)"
      ]
    },
    {
      "cell_type": "code",
      "execution_count": 4,
      "id": "e8d5c787",
      "metadata": {
        "id": "e8d5c787",
        "outputId": "83539899-9558-4147-c8c6-e4d316993bdb",
        "colab": {
          "base_uri": "https://localhost:8080/"
        }
      },
      "outputs": [
        {
          "output_type": "execute_result",
          "data": {
            "text/plain": [
              "133.33333333333334"
            ]
          },
          "metadata": {},
          "execution_count": 4
        }
      ],
      "source": [
        "a1 = np.array([1, 2, 3, 4])\n",
        "a2 = np.linspace(0, 20, 4)\n",
        "\n",
        "a1.dot(a2)"
      ]
    },
    {
      "cell_type": "markdown",
      "id": "dcd1d399",
      "metadata": {
        "id": "dcd1d399"
      },
      "source": [
        "The Hadamard product is a multiplication by elements and generates a vector."
      ]
    },
    {
      "cell_type": "markdown",
      "id": "a472d811",
      "metadata": {
        "id": "a472d811"
      },
      "source": [
        "![linear_algebra_hadamard_product.png](https://github.com/4GeeksAcademy/machine-learning-content/blob/master/assets/linear_algebra_hadamard_product.png?raw=true)"
      ]
    },
    {
      "cell_type": "code",
      "execution_count": 5,
      "id": "f3ff69ba",
      "metadata": {
        "id": "f3ff69ba",
        "outputId": "f3a8f66e-1ee4-4b2e-c900-a4bbf2f99958",
        "colab": {
          "base_uri": "https://localhost:8080/"
        }
      },
      "outputs": [
        {
          "output_type": "execute_result",
          "data": {
            "text/plain": [
              "array([10, 20, 30, 40])"
            ]
          },
          "metadata": {},
          "execution_count": 5
        }
      ],
      "source": [
        "a1 = np.array([1, 2, 3, 4])\n",
        "a2 = np.array([10, 10, 10, 10])\n",
        "\n",
        "a1 * a2"
      ]
    },
    {
      "cell_type": "markdown",
      "id": "72c4b002",
      "metadata": {
        "id": "72c4b002"
      },
      "source": [
        "### Matrices\n",
        "\n",
        "A **matrix** is a rectangular grid of numbers or terms (like an Excel spreadsheet) with special rules for addition, subtraction, and multiplication.\n",
        "\n",
        "Matrix dimensions: We describe the dimensions of a matrix in terms of rows by columns.\n",
        "\n",
        "**Scalar matrix operations**\n",
        "\n",
        "Scalar operations with matrices work the same way as with vectors.\n",
        "\n",
        "You simply apply the scalar to each element of the matrix - add, subtract, divide, multiply, etc."
      ]
    },
    {
      "cell_type": "markdown",
      "id": "5d17dd5a",
      "metadata": {
        "id": "5d17dd5a"
      },
      "source": [
        "![matrix_scalar_operations.png](https://github.com/4GeeksAcademy/machine-learning-content/blob/master/assets/matrix_scalar_operations.png?raw=true)"
      ]
    },
    {
      "cell_type": "code",
      "execution_count": 6,
      "id": "08ab37bd",
      "metadata": {
        "id": "08ab37bd",
        "outputId": "d93f00b3-4474-4738-d37d-e334b2d2f3f6",
        "colab": {
          "base_uri": "https://localhost:8080/"
        }
      },
      "outputs": [
        {
          "output_type": "stream",
          "name": "stdout",
          "text": [
            "[[11 12 13 14]\n",
            " [15 16 17 18]]\n",
            "[[-4 -3 -2 -1]\n",
            " [ 0  1  2  3]]\n",
            "[[ 3  6  9 12]\n",
            " [15 18 21 24]]\n",
            "[[0.5 1.  1.5 2. ]\n",
            " [2.5 3.  3.5 4. ]]\n"
          ]
        }
      ],
      "source": [
        "# Add a scalar and a matrix (in this case of 2 rows and 4 columns). In the following example, each element of the matrix will have a 10 added to it\n",
        "m1 = np.array([[1, 2, 3, 4], [5, 6, 7, 8]])\n",
        "print(m1 + 10)\n",
        "\n",
        "# Subtract a scalar and a matrix. In the following example, each element of the matrix will have a 5 subtracted from it\n",
        "print(m1 - 5)\n",
        "\n",
        "# Multiplying a scalar and a matrix. In the following example, each element of the matrix will be multiplied by 3\n",
        "print(m1 * 3)\n",
        "\n",
        "# Dividing a scalar and a matrix. In the following example, each element of the matrix will be divided by 2\n",
        "print(m1 / 2)"
      ]
    },
    {
      "cell_type": "markdown",
      "id": "f9058573",
      "metadata": {
        "id": "f9058573"
      },
      "source": [
        "**Operations with matrix elements**\n",
        "\n",
        "To add, subtract or divide two matrices they must have the same dimensions. We combine the corresponding values in an elementary way to produce a new matrix."
      ]
    },
    {
      "cell_type": "markdown",
      "id": "f82a710e",
      "metadata": {
        "id": "f82a710e"
      },
      "source": [
        "![matrix_elementwise_operations.png](https://github.com/4GeeksAcademy/machine-learning-content/blob/master/assets/matrix_elementwise_operations.png?raw=true)"
      ]
    },
    {
      "cell_type": "code",
      "execution_count": 7,
      "id": "fe8fdd2b",
      "metadata": {
        "id": "fe8fdd2b",
        "outputId": "fd8886a7-ae91-4d73-e5ce-19f3eada42f6",
        "colab": {
          "base_uri": "https://localhost:8080/"
        }
      },
      "outputs": [
        {
          "output_type": "stream",
          "name": "stdout",
          "text": [
            "[[ 3  6  9 12]\n",
            " [ 4  4  4  4]]\n",
            "[[-1 -2 -3 -4]\n",
            " [ 6  8 10 12]]\n",
            "[[ 0.5         0.5         0.5         0.5       ]\n",
            " [-5.         -3.         -2.33333333 -2.        ]]\n"
          ]
        }
      ],
      "source": [
        "m1 = np.array([[1, 2, 3, 4], [5, 6, 7, 8]])\n",
        "m2 = np.array([[2, 4, 6, 8], [-1, -2, -3, -4]])\n",
        "\n",
        "# Add two matrices. They must have the same dimension (same number of rows and columns). The elements in the same position of the first matrix and the second matrix are added together\n",
        "print(m1 + m2)\n",
        "\n",
        "# Subtract two matrices. They must have the same dimension (same number of rows and columns). The elements in the same position of the first matrix and the second matrix are subtracted\n",
        "print(m1 - m2)\n",
        "\n",
        "# Split two matrices. They must have the same dimension (same number of rows and columns). The elements in the same position of the first matrix and the second matrix are divided\n",
        "print(m1 / m2)"
      ]
    },
    {
      "cell_type": "markdown",
      "id": "51e19bb2",
      "metadata": {
        "id": "51e19bb2"
      },
      "source": [
        "**Matrix multiplication**\n",
        "\n",
        "There are two types of matrix multiplication: dot product and Hadamard product.\n",
        "\n",
        "The dot product of two matrices is a matrix with the number of rows of the first matrix and the number of columns of the second matrix. There must be equality between the number of columns of the first and the number of rows of the second. That is, if matrix A has dimensions of $5$ x $3$ (5 rows and 3 columns) and matrix B has dimensions of $3$ x $2$ (3 rows and 2 columns), the resulting matrix after multiplying them will have dimensions of $5$ x $2$ (and they can be multiplied because the first one has 3 columns and the second one has 3 rows).\n",
        "\n",
        "In the dot product of matrices, the element $c_{ij}$ of the product matrix is obtained by multiplying each element of row $i$ of matrix A by each element of column $j$ of matrix B and adding them together."
      ]
    },
    {
      "cell_type": "code",
      "execution_count": 8,
      "id": "51cff7f3",
      "metadata": {
        "id": "51cff7f3",
        "outputId": "69124d53-3e70-401b-e343-aa8307c949a9",
        "colab": {
          "base_uri": "https://localhost:8080/"
        }
      },
      "outputs": [
        {
          "output_type": "execute_result",
          "data": {
            "text/plain": [
              "array([[-1, -2],\n",
              "       [15, 22]])"
            ]
          },
          "metadata": {},
          "execution_count": 8
        }
      ],
      "source": [
        "m1 = np.array([[1, 2, 3, 4], [5, 6, 7, 8]])\n",
        "m2 = np.array([[2, 4], [6, 8], [-1, -2], [-3, -4]])\n",
        "\n",
        "m1.dot(m2)"
      ]
    },
    {
      "cell_type": "markdown",
      "id": "e2a1331e",
      "metadata": {
        "id": "e2a1331e"
      },
      "source": [
        "The Hadamard product of matrices is an elementary operation. Positionally corresponding values are multiplied to produce a new matrix."
      ]
    },
    {
      "cell_type": "markdown",
      "id": "6424f65e",
      "metadata": {
        "id": "6424f65e"
      },
      "source": [
        "![matrix_hadamard_operations.png](https://github.com/4GeeksAcademy/machine-learning-content/blob/master/assets/matrix_hadamard_operations.png?raw=true)"
      ]
    },
    {
      "cell_type": "code",
      "execution_count": 9,
      "id": "13f82bb0",
      "metadata": {
        "id": "13f82bb0",
        "outputId": "d4c8cf57-75f8-4461-c8db-205df9cc858a",
        "colab": {
          "base_uri": "https://localhost:8080/"
        }
      },
      "outputs": [
        {
          "output_type": "execute_result",
          "data": {
            "text/plain": [
              "array([[  2,   8,  18,  32],\n",
              "       [ -5, -12, -21, -32]])"
            ]
          },
          "metadata": {},
          "execution_count": 9
        }
      ],
      "source": [
        "m1 = np.array([[1, 2, 3, 4], [5, 6, 7, 8]])\n",
        "m2 = np.array([[2, 4, 6, 8], [-1, -2, -3, -4]])\n",
        "\n",
        "m1 * m2"
      ]
    },
    {
      "cell_type": "markdown",
      "id": "2800ccac",
      "metadata": {
        "id": "2800ccac"
      },
      "source": [
        "**Matrix transpose**\n",
        "\n",
        "Matrix transpose provides a way to \"rotate\" one of the matrices so that the operation meets the multiplication requirements and can continue.\n",
        "\n",
        "There are two steps to transpose a matrix:\n",
        "\n",
        "1. Rotate the matrix 90° to the right 2.\n",
        "2. Reverse the order of the elements in each row (e.g., $[a b c]$ becomes $[c b a]$)."
      ]
    },
    {
      "cell_type": "code",
      "execution_count": 13,
      "id": "932c5dee",
      "metadata": {
        "id": "932c5dee",
        "outputId": "9ede5d13-3cae-42e5-94ab-39037916b30e",
        "colab": {
          "base_uri": "https://localhost:8080/"
        }
      },
      "outputs": [
        {
          "output_type": "execute_result",
          "data": {
            "text/plain": [
              "array([[1, 5],\n",
              "       [2, 6],\n",
              "       [3, 7],\n",
              "       [4, 8]])"
            ]
          },
          "metadata": {},
          "execution_count": 13
        }
      ],
      "source": [
        "m1 = np.array([[1, 2, 3, 4], [5, 6, 7, 8]])\n",
        "\n",
        "m1.T"
      ]
    },
    {
      "cell_type": "code",
      "execution_count": 12,
      "id": "8c6b6aa3",
      "metadata": {
        "id": "8c6b6aa3",
        "outputId": "b53e7eb0-f827-401a-8f65-b2b0ab7d783d",
        "colab": {
          "base_uri": "https://localhost:8080/"
        }
      },
      "outputs": [
        {
          "output_type": "execute_result",
          "data": {
            "text/plain": [
              "array([[1, 5],\n",
              "       [2, 6],\n",
              "       [3, 7],\n",
              "       [4, 8]])"
            ]
          },
          "metadata": {},
          "execution_count": 12
        }
      ],
      "source": [
        "m1.transpose()"
      ]
    },
    {
      "cell_type": "markdown",
      "id": "51b654e8",
      "metadata": {
        "id": "51b654e8"
      },
      "source": [
        "### Applications of linear algebra\n",
        "\n",
        "Linear algebra has a direct impact on all processes involving data processing:\n",
        "\n",
        "- The data in a dataset is vectorized. Rows are inserted into a model one at a time for easier and more authentic calculations.\n",
        "- All images have a tabular (matrix) structure. Image editing techniques, such as cropping and scaling, use algebraic operations.\n",
        "- Regularization is a method that minimizes the size of coefficients while inserting them into the data.\n",
        "- Deep learning works with vectors, matrices and even tensors, as it requires aggregated and multiplied linear data structures.\n",
        "- The 'One hot encoding' method encodes categories to facilitate algebra operations.\n",
        "- In linear regression, linear algebra is used to describe the relationship between variables.\n",
        "- When we find irrelevant data, we usually eliminate redundant columns, so PCA works with matrix factorization.\n",
        "- With the help of linear algebra, recommender systems can have more refined data."
      ]
    }
  ],
  "metadata": {
    "interpreter": {
      "hash": "9248718ffe6ce6938b217e69dbcc175ea21f4c6b28a317e96c05334edae734bb"
    },
    "kernelspec": {
      "display_name": "Python 3.9.12 ('ML-BOOTCAMP')",
      "language": "python",
      "name": "python3"
    },
    "language_info": {
      "codemirror_mode": {
        "name": "ipython",
        "version": 3
      },
      "file_extension": ".py",
      "mimetype": "text/x-python",
      "name": "python",
      "nbconvert_exporter": "python",
      "pygments_lexer": "ipython3",
      "version": "3.11.4"
    },
    "colab": {
      "provenance": []
    }
  },
  "nbformat": 4,
  "nbformat_minor": 5
}